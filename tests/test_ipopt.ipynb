{
 "cells": [
  {
   "cell_type": "code",
   "execution_count": 1,
   "metadata": {
    "collapsed": true
   },
   "outputs": [],
   "source": [
    "import pyipopt\n",
    "import numpy as np\n",
    "import math\n",
    "import time\n",
    "\n",
    "#np.random.seed(7)\n",
    "#np.set_printoptions(precision=4)"
   ]
  },
  {
   "cell_type": "code",
   "execution_count": 2,
   "metadata": {
    "collapsed": true
   },
   "outputs": [],
   "source": [
    "# agentN - number of agents\n",
    "agentN = 2\n",
    "# locN - number of locations\n",
    "locN = 5\n",
    "# stageN - number of stages\n",
    "stageN = 5\n",
    "# sparsity"
   ]
  },
  {
   "cell_type": "code",
   "execution_count": 3,
   "metadata": {
    "collapsed": true
   },
   "outputs": [],
   "source": [
    "q = [ 0.0255, 0.2603, 0.1463, 0.2415, 0.3264]\n",
    "missVec = [ 0.1024, 0.2454, 0.1862, 0.2387, 0.1829]"
   ]
  },
  {
   "cell_type": "code",
   "execution_count": 4,
   "metadata": {
    "collapsed": false
   },
   "outputs": [],
   "source": [
    "nvar = locN\n",
    "x_L = np.zeros((nvar), dtype=np.float_)\n",
    "x_U = np.ones((nvar), dtype=np.float_) * agentN\n",
    "\n",
    "ncon = 1\n",
    "g_L = np.array([agentN])\n",
    "g_U = np.array([agentN])"
   ]
  },
  {
   "cell_type": "code",
   "execution_count": 5,
   "metadata": {
    "collapsed": true
   },
   "outputs": [],
   "source": [
    "def eval_f(x, user_data = None):\n",
    "    assert len(x) == locN\n",
    "    q = [ 0.0255,  0.2603,  0.1463,  0.2415,  0.3264]\n",
    "    missVec = [ 0.1024,  0.2454,  0.1862,  0.2387,  0.1829]\n",
    "    f = 0\n",
    "    for k in range(locN):\n",
    "        f += q[k] * math.pow(missVec[k], x[k])\n",
    "    return f\n",
    "\n",
    "def eval_grad_f(x, user_data = None):\n",
    "    assert len(x) == locN\n",
    "    q = [ 0.0255,  0.2603,  0.1463,  0.2415,  0.3264]\n",
    "    missVec = [ 0.1024,  0.2454,  0.1862,  0.2387,  0.1829]\n",
    "    f = []\n",
    "    for k in range(locN):\n",
    "        f.append(q[k] * math.log(missVec[k]) * math.pow(missVec[k], x[k]))\n",
    "    return np.array(f, dtype=np.float_)\n",
    "\n",
    "def eval_g(x, user_data= None):\n",
    "    assert len(x) == locN\n",
    "    return np.array([sum(x)], dtype=np.float_)\n",
    "\n",
    "nnzj = locN\n",
    "def eval_jac_g(x, flag, user_data = None):\n",
    "    assert len(x) == locN\n",
    "    return np.ones(locN, dtype=np.float_)\n",
    "\n",
    "nnzh = locN * locN"
   ]
  },
  {
   "cell_type": "code",
   "execution_count": null,
   "metadata": {
    "collapsed": false
   },
   "outputs": [],
   "source": [
    "nlp = pyipopt.create(nvar, x_L, x_U, ncon, g_L, g_U, nnzj, nnzh, eval_f, eval_grad_f, eval_g, eval_jac_g)\n",
    "x0 = np.array([1.0, 1.0, 0.0, 0.0, 0.0])"
   ]
  },
  {
   "cell_type": "code",
   "execution_count": null,
   "metadata": {
    "collapsed": false
   },
   "outputs": [
    {
     "ename": "SystemError",
     "evalue": "Objects/tupleobject.c:149: bad argument to internal function",
     "output_type": "error",
     "traceback": [
      "\u001b[0;31m---------------------------------------------------------------------------\u001b[0m",
      "\u001b[0;31mSystemError\u001b[0m                               Traceback (most recent call last)",
      "\u001b[0;31mSystemError\u001b[0m: Objects/tupleobject.c:149: bad argument to internal function"
     ]
    }
   ],
   "source": [
    "x = nlp.solve(x0)\n",
    "nlp.close()"
   ]
  },
  {
   "cell_type": "code",
   "execution_count": null,
   "metadata": {
    "collapsed": false
   },
   "outputs": [],
   "source": [
    "def print_variable(variable_name, value):\n",
    "    for i in range(len(value)):\n",
    "        print(\"{} {}\".format(variable_name + \"[\"+str(i)+\"] =\", value[i]))\n",
    "        \n",
    "print(\"Solution of the primal variables, x\")\n",
    "print_variable(\"x\", x)"
   ]
  },
  {
   "cell_type": "code",
   "execution_count": null,
   "metadata": {
    "collapsed": true
   },
   "outputs": [],
   "source": []
  }
 ],
 "metadata": {
  "kernelspec": {
   "display_name": "Python 3",
   "language": "python",
   "name": "python3"
  },
  "language_info": {
   "codemirror_mode": {
    "name": "ipython",
    "version": 3
   },
   "file_extension": ".py",
   "mimetype": "text/x-python",
   "name": "python",
   "nbconvert_exporter": "python",
   "pygments_lexer": "ipython3",
   "version": "3.6.0"
  }
 },
 "nbformat": 4,
 "nbformat_minor": 2
}
