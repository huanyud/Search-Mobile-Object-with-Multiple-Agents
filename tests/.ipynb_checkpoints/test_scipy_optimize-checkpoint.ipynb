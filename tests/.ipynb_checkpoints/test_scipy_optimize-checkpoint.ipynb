{
 "cells": [
  {
   "cell_type": "code",
   "execution_count": 1,
   "metadata": {
    "collapsed": true
   },
   "outputs": [],
   "source": [
    "import numpy as np\n",
    "import math\n",
    "import scipy.optimize\n",
    "import time\n",
    "\n",
    "np.random.seed(7)\n",
    "np.set_printoptions(precision=4)"
   ]
  },
  {
   "cell_type": "code",
   "execution_count": 2,
   "metadata": {
    "collapsed": true
   },
   "outputs": [],
   "source": [
    "# agentN - number of agents\n",
    "agentN = 2\n",
    "# locN - number of locations\n",
    "locN = 5\n",
    "# stageN - number of stages\n",
    "stageN = 5\n",
    "# sparsity"
   ]
  },
  {
   "cell_type": "code",
   "execution_count": 3,
   "metadata": {
    "collapsed": false
   },
   "outputs": [],
   "source": [
    "q = [ 0.0255, 0.2603, 0.1463, 0.2415, 0.3264 ]\n",
    "missVec = [ 0.1024, 0.2454, 0.1862, 0.2387, 0.1829 ]"
   ]
  },
  {
   "cell_type": "code",
   "execution_count": 4,
   "metadata": {
    "collapsed": false
   },
   "outputs": [
    {
     "name": "stdout",
     "output_type": "stream",
     "text": [
      "[-0.006  -0.0897 -0.0458 -0.0826 -0.1014]\n"
     ]
    }
   ],
   "source": [
    "def relaxedSubprob(x):\n",
    "    f = 0\n",
    "    for k in range(locN):\n",
    "        f += q[k] * math.pow(missVec[k], x[k])\n",
    "    return f\n",
    "\n",
    "def relaxedSubprob_deriv(x):\n",
    "    f = []\n",
    "    for k in range(locN):\n",
    "        f.append(q[k] * math.log(missVec[k]) * math.pow(missVec[k], x[k]))\n",
    "    return np.array(f)\n",
    "\n",
    "print(relaxedSubprob_deriv(np.ones(locN)))"
   ]
  },
  {
   "cell_type": "code",
   "execution_count": 5,
   "metadata": {
    "collapsed": false
   },
   "outputs": [],
   "source": [
    "cons = (\n",
    "    {\n",
    "        'type': 'eq',\n",
    "        'fun': lambda x: np.array([sum(x) - agentN]),\n",
    "        'jac': lambda x: np.ones(locN)\n",
    "    },\n",
    "    {\n",
    "        'type': 'ineq',\n",
    "        'fun': lambda x: np.array(x)\n",
    "    }\n",
    ")"
   ]
  },
  {
   "cell_type": "code",
   "execution_count": 6,
   "metadata": {
    "collapsed": false
   },
   "outputs": [
    {
     "name": "stdout",
     "output_type": "stream",
     "text": [
      "Optimization terminated successfully.    (Exit mode 0)\n",
      "            Current function value: 0.45909820978037186\n",
      "            Iterations: 6\n",
      "            Function evaluations: 6\n",
      "            Gradient evaluations: 6\n",
      "0.0035796165466308594\n",
      "[ -1.0215e-16   5.5638e-01   2.2863e-01   5.0780e-01   7.0719e-01]\n",
      "2.0\n"
     ]
    }
   ],
   "source": [
    "st_time = time.time()\n",
    "res = scipy.optimize.minimize(relaxedSubprob, np.zeros(locN),\n",
    "                              jac=relaxedSubprob_deriv, method='SLSQP',\n",
    "                              constraints=cons, options={'disp': True})\n",
    "print(time.time() - st_time)\n",
    "print(res.x)\n",
    "print(sum(res.x))"
   ]
  }
 ],
 "metadata": {
  "kernelspec": {
   "display_name": "Python 3",
   "language": "python",
   "name": "python3"
  },
  "language_info": {
   "codemirror_mode": {
    "name": "ipython",
    "version": 3
   },
   "file_extension": ".py",
   "mimetype": "text/x-python",
   "name": "python",
   "nbconvert_exporter": "python",
   "pygments_lexer": "ipython3",
   "version": "3.6.0"
  }
 },
 "nbformat": 4,
 "nbformat_minor": 2
}
