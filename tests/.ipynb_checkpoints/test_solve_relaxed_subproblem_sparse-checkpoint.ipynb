{
 "cells": [
  {
   "cell_type": "code",
   "execution_count": 1,
   "metadata": {
    "collapsed": true
   },
   "outputs": [],
   "source": [
    "import numpy as np\n",
    "import math\n",
    "import scipy.optimize\n",
    "import time\n",
    "import networkx as nx\n",
    "import matplotlib.pyplot as plt\n",
    "%matplotlib inline\n",
    "\n",
    "np.random.seed(5)\n",
    "np.set_printoptions(precision=4)"
   ]
  },
  {
   "cell_type": "code",
   "execution_count": 2,
   "metadata": {
    "code_folding": [
     0
    ],
    "collapsed": true
   },
   "outputs": [],
   "source": [
    "def generateModel_sparse(agentN, locN, stageN, sparseProb=0.6, isPrintModel=True):\n",
    "    # Generate the prior distribution vector\n",
    "    priorVec = np.random.random(locN)\n",
    "    priorVec /= priorVec.sum()\n",
    "    if isPrintModel:\n",
    "        print('The prior probability vector is:\\n' + str(priorVec) + '\\n')\n",
    "\n",
    "    # Generate the Markov transition probability matrix (left stochastic matrix; each column sums up to one)\n",
    "    tranProbMat = np.random.rand(locN, locN)\n",
    "    tranProbMat /= tranProbMat.sum(axis=0)[None,:]\n",
    "    if isPrintModel:\n",
    "        print('The Markov transition probability matrix (x=Px) is:\\n' + str(tranProbMat) + '\\n')\n",
    "\n",
    "    # Generate the probability vector of successful detections (between 0.5 to 1.0)\n",
    "    detectVec = 1 - 0.5 * np.random.random(locN)\n",
    "    if isPrintModel:\n",
    "        print('The probability vector of successful detections is:\\n' + str(detectVec) + '\\n')\n",
    "\n",
    "    # Compute the probability vector of missed detections\n",
    "    missVec = 1 - detectVec\n",
    "    if isPrintModel:\n",
    "        print('The probability vector of failed detections is:\\n' + str(missVec) + '\\n')\n",
    "        \n",
    "    # Generate access pairs\n",
    "    accessSource = dict([(m, []) for m in range(agentN)])  # key=source, value=sinks_from_this_source\n",
    "    accessSink = dict([(k, []) for k in range(locN)])  # key=sink, value=sources_to_this_sink\n",
    "    for m in range(agentN):\n",
    "        for k in range(locN):\n",
    "            if np.random.binomial(1, sparseProb) == 1:\n",
    "                accessSource[m].append(k)\n",
    "                accessSink[k].append(m)\n",
    "        # If agent m cannot access any location, add one\n",
    "        if len(accessSource[m]) == 0:\n",
    "            k = np.random.randint(0, locN)\n",
    "            accessSource[m].append(k)\n",
    "            accessSink[k].append(m)\n",
    "    for k in range(locN):\n",
    "        # If location k cannot be accessed any agent, add one\n",
    "        if len(accessSink[k]) == 0:\n",
    "            m = np.random.randint(0, agentN)\n",
    "            accessSource[m].append(k)\n",
    "            accessSink[k].append(m)\n",
    "    if isPrintModel:\n",
    "        print(accessSource)\n",
    "        print(accessSink)\n",
    "    \n",
    "    # Return model\n",
    "    return [priorVec, tranProbMat, detectVec, missVec, accessSource, accessSink]"
   ]
  },
  {
   "cell_type": "code",
   "execution_count": 3,
   "metadata": {
    "code_folding": [
     0
    ],
    "collapsed": true
   },
   "outputs": [],
   "source": [
    "# agentN - number of agents\n",
    "agentN = 3\n",
    "# locN - number of locations\n",
    "locN = 5\n",
    "# stageN - number of stages\n",
    "stageN = 5\n",
    "\n",
    "[priorVec, _, detectVec, missVec, accessSource, accessSink] = generateModel_sparse(agentN, locN, stageN, sparseProb=0.4, isPrintModel=False)\n",
    "q = priorVec"
   ]
  },
  {
   "cell_type": "code",
   "execution_count": 4,
   "metadata": {
    "code_folding": [
     0
    ],
    "collapsed": false
   },
   "outputs": [
    {
     "data": {
      "image/png": "[encoded data removed]",
      "text/plain": [
       "<matplotlib.figure.Figure at 0x7f41393c89b0>"
      ]
     },
     "metadata": {},
     "output_type": "display_data"
    }
   ],
   "source": [
    "def plot(agentN, locN, accessSource, accessSink):\n",
    "    G = nx.MultiDiGraph()\n",
    "    # Add sources\n",
    "    for m in range(agentN):\n",
    "        G.add_node('s' + str(m))\n",
    "    # Add sinks\n",
    "    for k in range(agentN):\n",
    "        G.add_node('t' + str(k))\n",
    "    # Add arcs\n",
    "    for m in range(agentN):\n",
    "        for k in accessSource[m]:\n",
    "            G.add_edge('s' + str(m), 't' + str(k))\n",
    "    # Configure node positions\n",
    "    nodes_pos_dict = {}\n",
    "    for i in range(agentN):\n",
    "        nodes_pos_dict['s'+str(i)] = (0, - (i - (agentN - 1) / 2))\n",
    "    for i in range(locN):\n",
    "        nodes_pos_dict['t'+str(i)] = (locN / 2, - (i - (locN - 1) / 2))\n",
    "    nodes_pos_dict['gt'] = (locN, 0)\n",
    "    # Configure plot dimensions\n",
    "    plt.rcParams['figure.figsize'] = (10, 6)\n",
    "    # Plot model\n",
    "    nx.draw_networkx(G, pos = nodes_pos_dict)\n",
    "    \n",
    "plot(agentN, locN, accessSource, accessSink)"
   ]
  },
  {
   "cell_type": "code",
   "execution_count": 10,
   "metadata": {
    "code_folding": [],
    "collapsed": false
   },
   "outputs": [
    {
     "name": "stdout",
     "output_type": "stream",
     "text": [
      "agent 0, iter=48, objVal=0.6895883573\n",
      "agent 1, iter=97, objVal=0.3826818673\n",
      "agent 2, iter=146, objVal=0.2759024203\n",
      "agent 0, iter=193, objVal=0.2597110987\n",
      "agent 1, iter=243, objVal=0.2586299117\n",
      "agent 2, iter=291, objVal=0.2586299117\n",
      "agent 0, iter=339, objVal=0.2585285770\n",
      "agent 1, iter=388, objVal=0.2585199365\n",
      "agent 2, iter=437, objVal=0.2585199365\n",
      "My optimal value: 0.2585 \n",
      "My search plan: [0.3058149663592904, 0.9047254925184565, 0, 1.3082261476404515, 0.4812333934817983] \n",
      " And b = \n",
      "[[0.3058149663592904, 0, 0, 0.21295164015890666, 0.4812333934817983], [0, 0.6123154668024782, 0, 0.3876845331975195, 0], [0, 0.2924100257159783, 0, 0.7075899742840254, 0]]\n",
      "My time taken is 0.00 .\n"
     ]
    }
   ],
   "source": [
    "start_time = time.time()\n",
    "\n",
    "a = [ 0 ] * locN\n",
    "b = [ [ 0 ] * locN for m in range(agentN) ] \n",
    "prevObjVal = sum(q)\n",
    "\n",
    "agent_id = 0\n",
    "itr = 1\n",
    "while True:\n",
    "    lamb = 0\n",
    "    for k in accessSource[agent_id]:\n",
    "        lamb = max(lamb, -q[k] * math.log(missVec[k]))\n",
    "    left = 0.0\n",
    "    right = lamb\n",
    "    while True:\n",
    "        # Solve for b_m_k with current lamb\n",
    "        for k in accessSource[agent_id]:\n",
    "            if (q[k] * math.log(missVec[k]) + lamb >= 0):\n",
    "                b[agent_id][k] = 0\n",
    "            else:\n",
    "                tmp = -lamb / (q[k] * math.log(missVec[k]))\n",
    "                b[agent_id][k] = math.log(tmp, missVec[k])\n",
    "                for m in range(agentN):\n",
    "                    if m != agent_id:\n",
    "                        b[agent_id][k] -= b[m][k]\n",
    "        should_be_one = sum(b[agent_id])\n",
    "        if math.fabs(should_be_one - 1) <= 1e-14:\n",
    "            break\n",
    "        elif should_be_one > 1: # Increase lamb\n",
    "            tmp = lamb\n",
    "            lamb = (lamb + right) / 2.0\n",
    "            left = tmp\n",
    "        else: # Decrease lamb\n",
    "            tmp = lamb\n",
    "            lamb = (left + lamb) / 2.0\n",
    "            right = tmp\n",
    "        #print('iter=%s, offset=%.2f, lamb=%.4f, left=%.4f, right=%.4f, right-left=%.2e' % (itr, should_be_one - 1, \\\n",
    "        #      lamb, left, right, right - left))\n",
    "        itr += 1\n",
    "    for k in range(locN):\n",
    "        a[k] = 0\n",
    "        for m in range(agentN):\n",
    "            a[k] += b[m][k]\n",
    "    objVal = sum([q[k] * math.pow(missVec[k], a[k]) for k in range(locN)])\n",
    "    print('agent %s, iter=%s, objVal=%.10f' % (agent_id, itr, objVal))\n",
    "    if objVal >= prevObjVal:\n",
    "        optObjVal = objVal\n",
    "        break\n",
    "    prevObjVal = objVal\n",
    "    agent_id = (agent_id + 1) % agentN\n",
    "\n",
    "myObjVal = optObjVal\n",
    "myPlan = a\n",
    "print('My optimal value: %.4f \\nMy search plan: %s \\n And b = \\n%s' % (myObjVal, myPlan, b))\n",
    "print('My time taken is %.2f .' % (time.time() - start_time))"
   ]
  },
  {
   "cell_type": "code",
   "execution_count": 6,
   "metadata": {
    "collapsed": false
   },
   "outputs": [
    {
     "name": "stdout",
     "output_type": "stream",
     "text": [
      "2.999999999999997\n",
      "0.9999999999999953\n",
      "0.9999999999999977\n",
      "1.0000000000000036\n"
     ]
    }
   ],
   "source": [
    "print(sum(myPlan))\n",
    "for m in range(agentN):\n",
    "    print(sum(b[m]))"
   ]
  },
  {
   "cell_type": "code",
   "execution_count": 7,
   "metadata": {
    "collapsed": false
   },
   "outputs": [
    {
     "name": "stdout",
     "output_type": "stream",
     "text": [
      "0.2585\n"
     ]
    }
   ],
   "source": [
    "a = [ 0.307, 0.904, 1.2433e-8, 1.306, 0.483 ]\n",
    "optObjVal = sum([q[k] * math.pow(missVec[k], a[k]) for k in range(locN)])\n",
    "print('%.4f' % (optObjVal))"
   ]
  },
  {
   "cell_type": "markdown",
   "metadata": {},
   "source": [
    "## GAMS\n",
    "\n",
    "Set m / 0 * 2 / ;\n",
    "Set k / 0 * 4 / ;\n",
    "Set mk(m,k) / 0.0, 0.3, 0.4,\n",
    "              1.1, 1.2, 1.3,\n",
    "              2.1, 2.3 / ;\n",
    "\n",
    "Parameters\n",
    "    q(k)\n",
    "    / 0 0.082\n",
    "      1 0.3217\n",
    "      2 0.0764\n",
    "      3 0.3394\n",
    "      4 0.1805 / \n",
    "    missVec(k)\n",
    "    / 0 0.0122\n",
    "      1 0.1023\n",
    "      2 0.3499\n",
    "      3 0.3898\n",
    "      4 0.0115 / ;\n",
    "\n",
    "Variables\n",
    "    a(k)\n",
    "    b(m,k)\n",
    "    f ;\n",
    "    \n",
    "Nonnegative variables a, b ;\n",
    "\n",
    "Equations eq1, eq2(k), eq3(m) ; \n",
    "eq1.. f =e= sum(k, q(k) * (missVec(k) ** a(k))) ;\n",
    "eq2(k).. sum(m$mk(m,k), b(m,k)) =e= a(k) ;\n",
    "eq3(m).. sum(k$mk(m,k), b(m,k)) =e= 1;\n",
    "\n",
    "Model sparse_subproblem /all/ ;\n",
    "\n",
    "Solve sparse_subproblem using nlp minimizing f ;\n"
   ]
  }
 ],
 "metadata": {
  "kernelspec": {
   "display_name": "Python 3",
   "language": "python",
   "name": "python3"
  },
  "language_info": {
   "codemirror_mode": {
    "name": "ipython",
    "version": 3
   },
   "file_extension": ".py",
   "mimetype": "text/x-python",
   "name": "python",
   "nbconvert_exporter": "python",
   "pygments_lexer": "ipython3",
   "version": "3.6.0"
  }
 },
 "nbformat": 4,
 "nbformat_minor": 2
}
